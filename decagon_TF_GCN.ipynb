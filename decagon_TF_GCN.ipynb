{
 "cells": [
  {
   "cell_type": "code",
   "execution_count": 1,
   "metadata": {},
   "outputs": [],
   "source": [
    "import networkx as nx\n",
    "import pandas as pd\n",
    "import torch_geometric as geom\n",
    "import torch"
   ]
  },
  {
   "cell_type": "code",
   "execution_count": 2,
   "metadata": {},
   "outputs": [],
   "source": [
    "# Create entity indexes\n",
    "\n",
    "node_list = pd.read_csv(\n",
    "    '../kge/data/selfloops/entity_ids.del',\n",
    "    sep='\\t', header=None\n",
    ")\n",
    "\n",
    "drug_ids_selfloops = [i for i, row in node_list.iterrows() if row[1].startswith('CID')]\n",
    "drug_list = node_list.loc[drug_ids_selfloops]\n",
    "drug_list.columns= ['selfloops_id', 'drug_name']\n",
    "drug_list.reset_index(drop=True, inplace=True)  # Index will be used to identify nodes in torch-geom\n",
    "\n",
    "gene_ids_selfloops = [i for i, row in node_list.iterrows() if not row[1].startswith('C')]\n",
    "gene_list = node_list.loc[gene_ids_selfloops]\n",
    "gene_list.columns= ['selfloops_id', 'gene_name']\n",
    "gene_list.reset_index(drop=True, inplace=True)  # Index will be used to identify nodes in torch-geom\n"
   ]
  },
  {
   "cell_type": "code",
   "execution_count": 3,
   "metadata": {},
   "outputs": [],
   "source": [
    "# Load embeds\n",
    "drug_emb = torch.load('emb/drug_vecs.pt')#.to(\"cuda\")\n",
    "gene_emb = torch.load('emb/gene_vecs.pt')#.to(\"cuda\")"
   ]
  },
  {
   "cell_type": "code",
   "execution_count": 6,
   "metadata": {},
   "outputs": [
    {
     "data": {
      "text/plain": [
       "tensor([[ 142,  142,  603,  ...,  157,  157,  157],\n",
       "        [9062, 7978, 4726,  ..., 5810,  125, 1892]])"
      ]
     },
     "execution_count": 6,
     "metadata": {},
     "output_type": "execute_result"
    }
   ],
   "source": [
    "# Load Decagon drug-targets edgelist\n",
    "\n",
    "targets = pd.read_csv('../Chapter2/data/raw/bio-decagon-targets.csv').astype(str)\n",
    "\n",
    "# Get dicts to convert entity names to IDs\n",
    "drug_name_to_id = {row.drug_name: i for i, row in drug_list.iterrows()}\n",
    "gene_name_to_id = {row.gene_name: i for i, row in gene_list.iterrows()}\n",
    "\n",
    "# Convert edgelist to index-based\n",
    "targets_edge_index = pd.DataFrame()\n",
    "targets_edge_index['STITCH'] = [drug_name_to_id[drug] for drug in targets.STITCH.values]\n",
    "targets_edge_index['Gene'] = [gene_name_to_id[gene] for gene in targets.Gene.values]\n",
    "\n",
    "# Convert edgelist to edge index\n",
    "targets_edge_index = torch.tensor(targets_edge_index.to_numpy()).T\n",
    "targets_edge_index"
   ]
  },
  {
   "cell_type": "code",
   "execution_count": 7,
   "metadata": {},
   "outputs": [
    {
     "data": {
      "text/plain": [
       "tensor([[15479, 15479, 15479,  ...,  8479,  6702,  3474],\n",
       "        [ 6845, 15048,   158,  ...,  2671,  2671,  3244]])"
      ]
     },
     "execution_count": 7,
     "metadata": {},
     "output_type": "execute_result"
    }
   ],
   "source": [
    "# Load PPI edges\n",
    "\n",
    "ppi = pd.read_csv('../Chapter2/data/raw/bio-decagon-ppi.csv').astype(str)\n",
    "\n",
    "# Convert names to geom index\n",
    "ppi_edge_index = pd.DataFrame()\n",
    "ppi_edge_index['Gene1'] = [gene_name_to_id[gene] for gene in ppi['Gene 1'].values]\n",
    "ppi_edge_index['Gene2'] = [gene_name_to_id[gene] for gene in ppi['Gene 2'].values]\n",
    "\n",
    "\n",
    "# Convert edgelist to edge index\n",
    "ppi_edge_index = torch.tensor(ppi_edge_index.to_numpy()).T\n",
    "ppi_edge_index"
   ]
  },
  {
   "cell_type": "code",
   "execution_count": 8,
   "metadata": {},
   "outputs": [
    {
     "data": {
      "text/plain": [
       "HeteroData(\n",
       "  drug={\n",
       "    node_id=[645],\n",
       "    x=[645, 256],\n",
       "  },\n",
       "  gene={\n",
       "    node_id=[19089],\n",
       "    x=[19089, 256],\n",
       "  },\n",
       "  (drug, targets, gene)={ edge_index=[2, 18690] },\n",
       "  (gene, rev_targets, drug)={ edge_index=[2, 18690] },\n",
       "  (gene, interacts, gene)={ edge_index=[2, 734701] },\n",
       "  (gene, rev_interacts, gene)={ edge_index=[2, 734701] }\n",
       ")"
      ]
     },
     "execution_count": 8,
     "metadata": {},
     "output_type": "execute_result"
    }
   ],
   "source": [
    "# Create torch-geometric graph https://pytorch-geometric.readthedocs.io/en/latest/tutorial/heterogeneous.html\n",
    "\n",
    "data = geom.data.HeteroData()\n",
    "\n",
    "# Add drug nodes and features\n",
    "data['drug'].node_id = drug_list.index.values\n",
    "data['drug'].x = drug_emb\n",
    "\n",
    "# Add gene nodes and features\n",
    "data['gene'].node_id = gene_list.index.values\n",
    "data['gene'].x = gene_emb\n",
    "\n",
    "# Add drug-target edges\n",
    "data['drug', 'targets', 'gene'].edge_index = targets_edge_index\n",
    "data['gene', 'rev_targets', 'drug'].edge_index = targets_edge_index.__reversed__()\n",
    "\n",
    "# Add PPI edges\n",
    "data['gene', 'interacts', 'gene'].edge_index = ppi_edge_index\n",
    "data['gene', 'rev_interacts', 'gene'].edge_index = ppi_edge_index.__reversed__()\n",
    "\n",
    "# Add selfloops (may not be needed for this analysis)\n",
    "data = geom.transforms.AddSelfLoops()(data)\n",
    "\n",
    "data"
   ]
  },
  {
   "cell_type": "markdown",
   "metadata": {},
   "source": [
    "# Note\n",
    "Would it be possible to simply treat this as a homogenous network with n_drugs + n_genes nodes? The features are the same shape so might actually be better to do it that way. Or is it important to keep the differences between the edge types?\n",
    "\n",
    "data = data.to_homogenous() may do the trick."
   ]
  },
  {
   "cell_type": "code",
   "execution_count": 9,
   "metadata": {},
   "outputs": [],
   "source": [
    "from torch_geometric.nn import HGTConv, Linear\n",
    "\n",
    "class HGT(torch.nn.Module):\n",
    "    def __init__(self, hidden_channels, out_channels, num_heads, num_layers):\n",
    "        super().__init__()\n",
    "\n",
    "        self.lin_dict = torch.nn.ModuleDict()\n",
    "        for node_type in data.node_types:\n",
    "            self.lin_dict[node_type] = Linear(-1, hidden_channels)\n",
    "\n",
    "        self.convs = torch.nn.ModuleList()\n",
    "        for _ in range(num_layers):\n",
    "            conv = HGTConv(hidden_channels, hidden_channels, data.metadata(),\n",
    "                           num_heads)\n",
    "            self.convs.append(conv)\n",
    "\n",
    "        self.lin = Linear(hidden_channels, out_channels)\n",
    "\n",
    "    def forward(self, x_dict, edge_index_dict):\n",
    "        for node_type, x in x_dict.items():\n",
    "            x_dict[node_type] = self.lin_dict[node_type](x).relu_()\n",
    "\n",
    "        for conv in self.convs:\n",
    "            x_dict = conv(x_dict, edge_index_dict)\n",
    "\n",
    "        return x_dict"
   ]
  },
  {
   "cell_type": "code",
   "execution_count": 10,
   "metadata": {},
   "outputs": [],
   "source": [
    "gcn_vecs = {}\n",
    "dim = 256\n",
    "for i, row in drug_list.iterrows():\n",
    "\n",
    "    # Clone data to keep original\n",
    "    features_temp = {}\n",
    "    features_temp['drug'] = torch.clone(data.x_dict['drug'])\n",
    "    features_temp['gene'] = torch.clone(data.x_dict['gene'])\n",
    "\n",
    "    # Blind drug vector of interest\n",
    "    features_temp['drug'][i] = torch.zeros(dim)\n",
    "\n",
    "    # Run convolutions over graph\n",
    "    model = HGT(hidden_channels=dim, out_channels=dim, num_heads=1, num_layers=2)\n",
    "    with torch.no_grad():\n",
    "        for _ in range(2):\n",
    "            features_temp = model(features_temp, data.edge_index_dict)\n",
    "\n",
    "    # Store output\n",
    "    drug = row.drug_name\n",
    "    gcn_vecs[drug] = torch.clone(features_temp['drug'][i])\n",
    "    break"
   ]
  }
 ],
 "metadata": {
  "kernelspec": {
   "display_name": "libkge",
   "language": "python",
   "name": "python3"
  },
  "language_info": {
   "codemirror_mode": {
    "name": "ipython",
    "version": 3
   },
   "file_extension": ".py",
   "mimetype": "text/x-python",
   "name": "python",
   "nbconvert_exporter": "python",
   "pygments_lexer": "ipython3",
   "version": "3.8.18"
  }
 },
 "nbformat": 4,
 "nbformat_minor": 2
}
